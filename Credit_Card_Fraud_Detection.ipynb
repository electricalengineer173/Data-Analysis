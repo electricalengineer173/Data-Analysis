{
 "cells": [
  {
   "cell_type": "markdown",
   "metadata": {
    "colab_type": "text",
    "id": "view-in-github"
   },
   "source": [
    "<a href=\"https://colab.research.google.com/github/electricalengineer173/PIAIC1466-assigment-panda-part1-part2-/blob/main/Credit_Card_Fraud_Detection_assignment(PIAIC_77161).ipynb\" target=\"_parent\"><img src=\"https://colab.research.google.com/assets/colab-badge.svg\" alt=\"Open In Colab\"/></a>"
   ]
  },
  {
   "cell_type": "markdown",
   "metadata": {
    "id": "DjENWQilnvYj"
   },
   "source": [
    "# Credit Card Fraud Detection::"
   ]
  },
  {
   "cell_type": "markdown",
   "metadata": {
    "id": "PlYMgMl8nvYy"
   },
   "source": [
    "Download dataset from this link:\n",
    "\n",
    "https://www.kaggle.com/mlg-ulb/creditcardfraud"
   ]
  },
  {
   "cell_type": "markdown",
   "metadata": {
    "id": "Uw-oW8PunvYz"
   },
   "source": [
    "# Description about dataset::"
   ]
  },
  {
   "cell_type": "markdown",
   "metadata": {
    "id": "PUEQ1jxNnvY0"
   },
   "source": [
    "The datasets contains transactions made by credit cards in September 2013 by european cardholders.\n",
    "This dataset presents transactions that occurred in two days, where we have 492 frauds out of 284,807 transactions. The dataset is highly unbalanced, the positive class (frauds) account for 0.172% of all transactions.\n",
    "\n",
    "It contains only numerical input variables which are the result of a PCA transformation. Unfortunately, due to confidentiality issues, we cannot provide the original features and more background information about the data. Features V1, V2, … V28 are the principal components obtained with PCA, the only features which have not been transformed with PCA are 'Time' and 'Amount'. Feature 'Time' contains the seconds elapsed between each transaction and the first transaction in the dataset. The feature 'Amount' is the transaction Amount, this feature can be used for example-dependant cost-senstive learning. \n",
    "\n",
    "\n",
    "### Feature 'Class' is the response variable and it takes value 1 in case of fraud and 0 otherwise."
   ]
  },
  {
   "cell_type": "markdown",
   "metadata": {
    "id": "mKsHAtV6nvY1"
   },
   "source": [
    "# WORKFLOW :"
   ]
  },
  {
   "cell_type": "markdown",
   "metadata": {
    "id": "ts0gUPYrnvY1"
   },
   "source": [
    "1.Load Data\n",
    "\n",
    "2.Check Missing Values ( If Exist ; Fill each record with mean of its feature )\n",
    "\n",
    "3.Standardized the Input Variables. \n",
    "\n",
    "4.Split into 50% Training(Samples,Labels) , 30% Test(Samples,Labels) and 20% Validation Data(Samples,Labels).\n",
    "\n",
    "5.Model : input Layer (No. of features ), 3 hidden layers including 10,8,6 unit & Output Layer with activation function relu/tanh (check by experiment).\n",
    "\n",
    "6.Compilation Step (Note : Its a Binary problem , select loss , metrics according to it)\n",
    "\n",
    "7.Train the Model with Epochs (100).\n",
    "\n",
    "8.If the model gets overfit tune your model by changing the units , No. of layers , epochs , add dropout layer or add Regularizer according to the need .\n",
    "\n",
    "9.Prediction should be > 92%\n",
    "10.Evaluation Step\n",
    "11Prediction\n"
   ]
  },
  {
   "cell_type": "markdown",
   "metadata": {
    "id": "Vgu2EI87nvY2"
   },
   "source": [
    "# Task::"
   ]
  },
  {
   "cell_type": "markdown",
   "metadata": {
    "id": "SBgPMoMenvY2"
   },
   "source": [
    "## Identify fraudulent credit card transactions."
   ]
  },
  {
   "cell_type": "code",
   "execution_count": null,
   "metadata": {
    "id": "oHrY15yInvY3"
   },
   "outputs": [],
   "source": [
    "import pandas as pd\n",
    "import numpy as np\n",
    "import matplotlib.pyplot as plt\n",
    "from sklearn.model_selection import train_test_split\n",
    "from sklearn.preprocessing import StandardScaler"
   ]
  },
  {
   "cell_type": "code",
   "execution_count": null,
   "metadata": {
    "id": "pobcUFWju6Ii"
   },
   "outputs": [],
   "source": [
    "from google.colab import drive\n",
    "drive.mount('/content/drive')"
   ]
  },
  {
   "cell_type": "code",
   "execution_count": null,
   "metadata": {
    "id": "oynEE4pqxX1_"
   },
   "outputs": [],
   "source": [
    "#-------------------1.Load Data--------------------\n",
    "\n",
    "\n",
    "\n",
    "credit_cards_transactions = pd.read_csv(\"./creditcard.csv\")"
   ]
  },
  {
   "cell_type": "code",
   "execution_count": null,
   "metadata": {
    "id": "pwWhCqp7ycuS"
   },
   "outputs": [],
   "source": [
    "#-------------------2.Check Missing Values---------------\n",
    "\n",
    "\n",
    "\n",
    "fill_mean = lambda x: x.fillna(x.mean())\n",
    "credit_cards_transactions=credit_cards_transactions.apply(fill_mean)\n",
    "credit_cards_transactions.describe()\n",
    "credit_cards_transactions.shape\n",
    "credit_cards_transactions.info\n"
   ]
  },
  {
   "cell_type": "code",
   "execution_count": null,
   "metadata": {
    "id": "FzSKOQv9yYrN"
   },
   "outputs": [],
   "source": [
    "#------------3.Standardized the Input Variables----------------\n",
    "\n",
    "\n",
    "\n",
    "#mean = credit_cards_transactions.mean(axis=0)\n",
    "#credit_cards_transactions -= mean\n",
    "#std = credit_cards_transactions.std(axis=0)\n",
    "#credit_cards_transactions /= std\n",
    "#credit_cards_transactions -= mean\n",
    "#credit_cards_transactions /= std\n",
    "\n",
    "\n",
    "\n",
    "# ------------NOTABLE--------------------------------\n",
    "# credit card transaction is data not input variables\n",
    "# we have to standarized the input variables not the data\n",
    "#so we cant do this before step4"
   ]
  },
  {
   "cell_type": "markdown",
   "metadata": {
    "id": "shsX9FuMvA52"
   },
   "source": [
    "# New Section"
   ]
  },
  {
   "cell_type": "code",
   "execution_count": null,
   "metadata": {
    "id": "u9Txbl7f40Ak"
   },
   "outputs": [],
   "source": [
    "#-----------4.Split into 50% Training(Samples,Labels) , 30% Test(Samples,Labels) \n",
    "#------------- and 20% Validation Data(Samples,Labels).\n",
    "\n",
    "\n",
    "\n",
    "X =credit_cards_transactions.iloc[:,:30] \n",
    "y = credit_cards_transactions.iloc[:,-1] \n",
    "X_train, X_test, y_train, y_test = train_test_split(X, y, test_size=0.3, random_state=1)\n",
    "\n",
    "#print(X_train.shape)\n",
    "#print(X_test.shape)\n",
    "\n",
    "X_train, X_valid, y_train, y_valid = train_test_split(X_train, y_train, test_size=0.2, random_state=1)\n",
    "\n",
    "#print(X_train.shape)\n",
    "#print(X_valid.shape)\n",
    "#print(y_valid.shape)\n",
    "\n",
    "\n",
    "\n",
    "\n"
   ]
  },
  {
   "cell_type": "code",
   "execution_count": null,
   "metadata": {
    "id": "q_d065hMnvY4"
   },
   "outputs": [],
   "source": [
    "mean = X_train.mean(axis=0)\n",
    "X_train -= mean\n",
    "std = X_train.std(axis=0)\n",
    "X_train/= std\n",
    "X_test -= mean\n",
    "X_test /= std\n",
    "\n",
    "\n",
    "#X_train= np.asarray(X_train).astype('float32')\n",
    "#X_test= np.asarray(X_test).astype('float32')"
   ]
  },
  {
   "cell_type": "code",
   "execution_count": null,
   "metadata": {
    "id": "zWhFeUhOnvY5"
   },
   "outputs": [],
   "source": [
    "#-------5.Model : input Layer (No. of features ), 3 hidden layers including 10,8,6 unit & \n",
    "#---------Output Layer with activation function relu/tanh\n",
    "\n",
    "\n",
    "\n",
    "from keras import models\n",
    "from keras import layers\n",
    "model = models.Sequential()\n",
    "model.add(layers.Dense(20, activation='relu',input_shape=(X_train.shape[1],)))\n",
    "model.add(layers.Dropout(0.99))\n",
    "model.add(layers.Dense(1, activation='sigmoid'))\n",
    "\n",
    "#model = models.Sequential()\n",
    "##model.add(layers.Dense(10, activation='relu', input_shape=(X_train.shape[1],)))\n",
    "#model.add(layers.Dense(8, activation='relu'))\n",
    "#model.add(layers.Dense(6, activation='relu'))\n",
    "#model.add(layers.Dense(1, activation='sigmoid'))\n"
   ]
  },
  {
   "cell_type": "code",
   "execution_count": null,
   "metadata": {
    "id": "NSngK6s3nvY5"
   },
   "outputs": [],
   "source": [
    "#--------6.Compilation Step--------\n",
    "#-- (Note : Its a Binary problem , select loss , metrics according to it)\n",
    "\n",
    "\n",
    "model.compile(optimizer='rmsprop',\n",
    "loss='binary_crossentropy',\n",
    "metrics=['accuracy'])\n",
    "#----------7.Train the Model with Epochs (100).-------------\n",
    "history = model.fit(X_train, y_train,epochs=6,batch_size=200,validation_data=(X_valid, y_valid))"
   ]
  },
  {
   "cell_type": "code",
   "execution_count": null,
   "metadata": {
    "id": "5_lVrvqsp2ew"
   },
   "outputs": [],
   "source": [
    "history_dict = history.history\n",
    "history_dict.keys()\n",
    "[u\"loss\",u\"accuracy\",u\"val_loss\",u\"val_accuracy\"]"
   ]
  },
  {
   "cell_type": "code",
   "execution_count": null,
   "metadata": {
    "id": "D_Ks3mCynvY6"
   },
   "outputs": [],
   "source": [
    "#--------------8.If the model gets overfit tune your model by changing the units ,\n",
    "# No. of layers , epochs , add dropout layer or add Regularizer according to the need\n",
    "\n",
    "\n",
    "\n",
    "\n",
    "# data is overfit so make epoch = 2\n",
    "# history = model.fit(X_train, y_train,epochs=2,batch_size=200,validation_data=(X_valid, y_valid)) \n",
    "\n",
    "import matplotlib.pyplot as plt\n",
    "history_dict = history.history\n",
    "loss_values = history_dict['loss']\n",
    "#accu = history_dict['accuracy']\n",
    "val_loss_values = history_dict['val_loss']\n",
    "epochs = np.arange(1, len( history_dict['accuracy'])+1)\n",
    "plt.plot(epochs, loss_values, 'bo', label='Training loss')\n",
    "plt.plot(epochs, val_loss_values, 'b', label='Validation loss')\n",
    "plt.title('Training and validation loss')\n",
    "plt.xlabel('Epochs')\n",
    "plt.ylabel('Loss')\n",
    "plt.legend()\n",
    "plt.show()\n",
    "\n",
    "\n",
    "accu = history_dict['accuracy']\n",
    "val_accuracy_values = history_dict['val_accuracy']\n",
    "epochs = np.arange(1, len( history_dict['accuracy'])+1)\n",
    "plt.plot(epochs, accu, 'bo', label='Training accuracy')\n",
    "plt.plot(epochs, val_accuracy_values, 'b', label='Validation accuracy')\n",
    "plt.title('Training and validation accuracy')\n",
    "plt.xlabel('Epochs')\n",
    "plt.ylabel('accuracy')\n",
    "plt.legend()\n",
    "plt.show()\n",
    "print(len(history_dict[\"accuracy\"]))\n",
    "print(len(history_dict[\"loss\"]))"
   ]
  },
  {
   "cell_type": "code",
   "execution_count": null,
   "metadata": {
    "id": "FxjLUe9UnvY6"
   },
   "outputs": [],
   "source": [
    "#---------------------------Step 10.Evaluation-----------------------\n",
    "\n",
    "model.evaluate(X_test, y_test)\n",
    "\n",
    "#1 trainng acc greater than testing ac \n",
    "#2training loss less than \n",
    "#validation loss greater than training loss\n",
    "#3static"
   ]
  },
  {
   "cell_type": "code",
   "execution_count": null,
   "metadata": {
    "id": "4sBCVZGAnvY7"
   },
   "outputs": [],
   "source": [
    "#--------------------------Step 11Prediction---------\n",
    "\n",
    "predictions = model.predict(X_test)"
   ]
  }
 ],
 "metadata": {
  "accelerator": "TPU",
  "colab": {
   "collapsed_sections": [],
   "include_colab_link": true,
   "name": "Credit Card Fraud Detection assignment(PIAIC 77161).ipynb",
   "provenance": []
  },
  "kernelspec": {
   "display_name": "Python 3",
   "language": "python",
   "name": "python3"
  },
  "language_info": {
   "codemirror_mode": {
    "name": "ipython",
    "version": 3
   },
   "file_extension": ".py",
   "mimetype": "text/x-python",
   "name": "python",
   "nbconvert_exporter": "python",
   "pygments_lexer": "ipython3",
   "version": "3.7.4"
  }
 },
 "nbformat": 4,
 "nbformat_minor": 1
}
