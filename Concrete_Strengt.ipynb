{
 "cells": [
  {
   "cell_type": "markdown",
   "metadata": {
    "colab_type": "text",
    "id": "view-in-github"
   },
   "source": [
    "<a href=\"https://colab.research.google.com/github/electricalengineer173/PIAIC1466-assigment-panda-part1-part2-/blob/main/Concrete_Strength_Assignment_(PIAIC_77161).ipynb\" target=\"_parent\"><img src=\"https://colab.research.google.com/assets/colab-badge.svg\" alt=\"Open In Colab\"/></a>"
   ]
  },
  {
   "cell_type": "markdown",
   "metadata": {
    "id": "nnlyIQflOZJG"
   },
   "source": [
    "# Assignment: Compresive Strength Concrete Problem\n",
    "\n",
    "\n",
    "### Abstract: \n",
    "\n",
    "Concrete is the most important material in civil engineering. The concrete compressive strength (concrete strength to bear the load) is a highly nonlinear function of age and ingredients.  <br><br>\n",
    "\n",
    "<table border=\"1\"  cellpadding=\"6\" bordercolor=\"red\">\n",
    "\t<tbody>\n",
    "        <tr>\n",
    "\t\t<td bgcolor=\"#DDEEFF\"><p class=\"normal\"><b>Data Set Characteristics:&nbsp;&nbsp;</b></p></td>\n",
    "\t\t<td><p class=\"normal\">Multivariate</p></td>\n",
    "\t\t<td bgcolor=\"#DDEEFF\"><p class=\"normal\"><b>Number of Instances:</b></p></td>\n",
    "\t\t<td><p class=\"normal\">1030</p></td>\n",
    "\t\t<td bgcolor=\"#DDEEFF\"><p class=\"normal\"><b>Area:</b></p></td>\n",
    "\t\t<td><p class=\"normal\">Physical</p></td>\n",
    "        </tr>\n",
    "     </tbody>\n",
    "    </table>\n",
    "<table border=\"1\" cellpadding=\"6\">\n",
    "    <tbody>\n",
    "        <tr>\n",
    "            <td bgcolor=\"#DDEEFF\"><p class=\"normal\"><b>Attribute Characteristics:</b></p></td>\n",
    "            <td><p class=\"normal\">Real</p></td>\n",
    "            <td bgcolor=\"#DDEEFF\"><p class=\"normal\"><b>Number of Attributes:</b></p></td>\n",
    "            <td><p class=\"normal\">9</p></td>\n",
    "            <td bgcolor=\"#DDEEFF\"><p class=\"normal\"><b>Date Donated</b></p></td>\n",
    "            <td><p class=\"normal\">2007-08-03</p></td>\n",
    "        </tr>\n",
    "     </tbody>\n",
    "    </table>\n",
    "<table border=\"1\" cellpadding=\"6\">\t\n",
    "    <tbody>\n",
    "    <tr>\n",
    "\t\t<td bgcolor=\"#DDEEFF\"><p class=\"normal\"><b>Associated Tasks:</b></p></td>\n",
    "\t\t<td><p class=\"normal\">Regression</p></td>\n",
    "\t\t<td bgcolor=\"#DDEEFF\"><p class=\"normal\"><b>Missing Values?</b></p></td>\n",
    "\t\t<td><p class=\"normal\">N/A</p></td>\n",
    "\t\t<td bgcolor=\"#DDEEFF\"><p class=\"normal\"><b>Number of Web Hits:</b></p></td>\n",
    "\t\t<td><p class=\"normal\">231464</p></td>\n",
    "\t</tr>\n",
    "    </tbody>\n",
    "    </table>"
   ]
  },
  {
   "cell_type": "markdown",
   "metadata": {
    "id": "wDVdvMBAOZJL"
   },
   "source": [
    "###  Description:\n",
    "| Features Name | Data Type | Measurement | Description |\n",
    "| -- | -- | -- | -- |\n",
    "Cement (component 1) | quantitative | kg in a m3 mixture | Input Variable\n",
    "Blast Furnace Slag (component 2) | quantitative | kg in a m3 mixture | Input Variable\n",
    "Fly Ash (component 3) | quantitative | kg in a m3 mixture | Input Variable\n",
    "Water (component 4) | quantitative | kg in a m3 mixture | Input Variable\n",
    "Superplasticizer (component 5) | quantitative | kg in a m3 mixture | Input Variable\n",
    "Coarse Aggregate (component 6) | quantitative | kg in a m3 mixture | Input Variable\n",
    "Fine Aggregate (component 7) | quantitative | kg in a m3 mixture | Input Variable\n",
    "Age | quantitative | Day (1~365) | Input Variable\n",
    "Concrete compressive strength | quantitative | MPa | Output Variable\n",
    "\n",
    "### WORKFLOW :\n",
    "- Load Data\n",
    "- Check Missing Values ( If Exist ; Fill each record with mean of its feature )\n",
    "- Standardized the Input Variables. **Hint**: Centeralized the data\n",
    "- Split into 50% Training(Samples,Labels) , 30% Test(Samples,Labels) and 20% Validation Data(Samples,Labels).\n",
    "- Model : input Layer (No. of features ), 3 hidden layers including 10,8,6 unit & Output Layer with activation function relu/tanh (check by experiment).\n",
    "- Compilation Step (Note : Its a Regression problem , select loss , metrics according to it)\n",
    "- Train the Model with Epochs (100) and validate it\n",
    "- If the model gets overfit tune your model by changing the units , No. of layers , activation function , epochs , add dropout layer or add Regularizer according to the need .\n",
    "- Evaluation Step\n",
    "- Prediction\n"
   ]
  },
  {
   "cell_type": "markdown",
   "metadata": {
    "id": "8_lYngD2OZJN"
   },
   "source": [
    "# Load Data:\n",
    "[Click Here to Download DataSet](https://github.com/ramsha275/ML_Datasets/blob/main/compresive_strength_concrete.csv)"
   ]
  },
  {
   "cell_type": "code",
   "execution_count": null,
   "metadata": {
    "id": "FgrSF5j_OZJO"
   },
   "outputs": [],
   "source": [
    "import tensorflow as tf\n",
    "import numpy as np\n",
    "import pandas as pd\n",
    "from tensorflow.keras import models, layers , optimizers"
   ]
  },
  {
   "cell_type": "code",
   "execution_count": null,
   "metadata": {
    "colab": {
     "base_uri": "https://localhost:8080/"
    },
    "id": "thBGRKLPPHZY",
    "outputId": "79a468a5-0cf6-4ee8-dbd1-95f6261e6598"
   },
   "outputs": [
    {
     "name": "stdout",
     "output_type": "stream",
     "text": [
      "Drive already mounted at /content/gdrive; to attempt to forcibly remount, call drive.mount(\"/content/gdrive\", force_remount=True).\n"
     ]
    }
   ],
   "source": [
    "from google.colab import drive\n",
    "drive.mount(\"/content/gdrive\")"
   ]
  },
  {
   "cell_type": "code",
   "execution_count": null,
   "metadata": {
    "id": "H43i_gBFPe02"
   },
   "outputs": [],
   "source": [
    "#-------------------------Step1----------------------\n",
    "\n",
    "\n",
    "\n",
    "# loading data \n",
    "df= pd.read_csv(\"/content/gdrive/MyDrive/compresive_strength_concrete.csv\")"
   ]
  },
  {
   "cell_type": "code",
   "execution_count": null,
   "metadata": {
    "colab": {
     "base_uri": "https://localhost:8080/",
     "height": 255
    },
    "id": "oH6RIxSbQy3d",
    "outputId": "2b71d80c-94d0-4986-bf37-7150fd0e7ffc"
   },
   "outputs": [
    {
     "data": {
      "text/html": [
       "<div>\n",
       "<style scoped>\n",
       "    .dataframe tbody tr th:only-of-type {\n",
       "        vertical-align: middle;\n",
       "    }\n",
       "\n",
       "    .dataframe tbody tr th {\n",
       "        vertical-align: top;\n",
       "    }\n",
       "\n",
       "    .dataframe thead th {\n",
       "        text-align: right;\n",
       "    }\n",
       "</style>\n",
       "<table border=\"1\" class=\"dataframe\">\n",
       "  <thead>\n",
       "    <tr style=\"text-align: right;\">\n",
       "      <th></th>\n",
       "      <th>Cement (component 1)(kg in a m^3 mixture)</th>\n",
       "      <th>Blast Furnace Slag (component 2)(kg in a m^3 mixture)</th>\n",
       "      <th>Fly Ash (component 3)(kg in a m^3 mixture)</th>\n",
       "      <th>Water  (component 4)(kg in a m^3 mixture)</th>\n",
       "      <th>Superplasticizer (component 5)(kg in a m^3 mixture)</th>\n",
       "      <th>Coarse Aggregate  (component 6)(kg in a m^3 mixture)</th>\n",
       "      <th>Fine Aggregate (component 7)(kg in a m^3 mixture)</th>\n",
       "      <th>Age (day)</th>\n",
       "      <th>Concrete compressive strength(MPa, megapascals)</th>\n",
       "    </tr>\n",
       "  </thead>\n",
       "  <tbody>\n",
       "    <tr>\n",
       "      <th>0</th>\n",
       "      <td>540.0</td>\n",
       "      <td>0.0</td>\n",
       "      <td>0.0</td>\n",
       "      <td>162.0</td>\n",
       "      <td>2.5</td>\n",
       "      <td>1040.0</td>\n",
       "      <td>676.0</td>\n",
       "      <td>28</td>\n",
       "      <td>79.99</td>\n",
       "    </tr>\n",
       "    <tr>\n",
       "      <th>1</th>\n",
       "      <td>540.0</td>\n",
       "      <td>0.0</td>\n",
       "      <td>0.0</td>\n",
       "      <td>162.0</td>\n",
       "      <td>2.5</td>\n",
       "      <td>1055.0</td>\n",
       "      <td>676.0</td>\n",
       "      <td>28</td>\n",
       "      <td>61.89</td>\n",
       "    </tr>\n",
       "    <tr>\n",
       "      <th>2</th>\n",
       "      <td>332.5</td>\n",
       "      <td>142.5</td>\n",
       "      <td>0.0</td>\n",
       "      <td>228.0</td>\n",
       "      <td>0.0</td>\n",
       "      <td>932.0</td>\n",
       "      <td>594.0</td>\n",
       "      <td>270</td>\n",
       "      <td>40.27</td>\n",
       "    </tr>\n",
       "    <tr>\n",
       "      <th>3</th>\n",
       "      <td>332.5</td>\n",
       "      <td>142.5</td>\n",
       "      <td>0.0</td>\n",
       "      <td>228.0</td>\n",
       "      <td>0.0</td>\n",
       "      <td>932.0</td>\n",
       "      <td>594.0</td>\n",
       "      <td>365</td>\n",
       "      <td>41.05</td>\n",
       "    </tr>\n",
       "    <tr>\n",
       "      <th>4</th>\n",
       "      <td>198.6</td>\n",
       "      <td>132.4</td>\n",
       "      <td>0.0</td>\n",
       "      <td>192.0</td>\n",
       "      <td>0.0</td>\n",
       "      <td>978.4</td>\n",
       "      <td>825.5</td>\n",
       "      <td>360</td>\n",
       "      <td>44.30</td>\n",
       "    </tr>\n",
       "  </tbody>\n",
       "</table>\n",
       "</div>"
      ],
      "text/plain": [
       "   Cement (component 1)(kg in a m^3 mixture)  ...  Concrete compressive strength(MPa, megapascals) \n",
       "0                                      540.0  ...                                             79.99\n",
       "1                                      540.0  ...                                             61.89\n",
       "2                                      332.5  ...                                             40.27\n",
       "3                                      332.5  ...                                             41.05\n",
       "4                                      198.6  ...                                             44.30\n",
       "\n",
       "[5 rows x 9 columns]"
      ]
     },
     "execution_count": 55,
     "metadata": {
      "tags": []
     },
     "output_type": "execute_result"
    }
   ],
   "source": [
    "# check first five rows\n",
    "df.head()"
   ]
  },
  {
   "cell_type": "code",
   "execution_count": null,
   "metadata": {
    "colab": {
     "base_uri": "https://localhost:8080/",
     "height": 231
    },
    "id": "q8S-QLsBR4Bd",
    "outputId": "672dc578-17c6-45b2-ed01-1dc31af0f9aa"
   },
   "outputs": [
    {
     "ename": "NameError",
     "evalue": "ignored",
     "output_type": "error",
     "traceback": [
      "\u001b[0;31m---------------------------------------------------------------------------\u001b[0m",
      "\u001b[0;31mNameError\u001b[0m                                 Traceback (most recent call last)",
      "\u001b[0;32m<ipython-input-1-e69eb19f64aa>\u001b[0m in \u001b[0;36m<module>\u001b[0;34m()\u001b[0m\n\u001b[1;32m      2\u001b[0m \u001b[0;31m#-------------------2.Check Missing Values---------------\u001b[0m\u001b[0;34m\u001b[0m\u001b[0;34m\u001b[0m\u001b[0;34m\u001b[0m\u001b[0m\n\u001b[1;32m      3\u001b[0m \u001b[0mfill_mean\u001b[0m \u001b[0;34m=\u001b[0m \u001b[0;32mlambda\u001b[0m \u001b[0mx\u001b[0m\u001b[0;34m:\u001b[0m \u001b[0mx\u001b[0m\u001b[0;34m.\u001b[0m\u001b[0mfillna\u001b[0m\u001b[0;34m(\u001b[0m\u001b[0mx\u001b[0m\u001b[0;34m.\u001b[0m\u001b[0mmean\u001b[0m\u001b[0;34m(\u001b[0m\u001b[0;34m)\u001b[0m\u001b[0;34m)\u001b[0m\u001b[0;34m\u001b[0m\u001b[0;34m\u001b[0m\u001b[0m\n\u001b[0;32m----> 4\u001b[0;31m \u001b[0mcredit_cards_transactions\u001b[0m\u001b[0;34m=\u001b[0m\u001b[0mcredit_cards_transactions\u001b[0m\u001b[0;34m.\u001b[0m\u001b[0mapply\u001b[0m\u001b[0;34m(\u001b[0m\u001b[0mfill_mean\u001b[0m\u001b[0;34m)\u001b[0m\u001b[0;34m\u001b[0m\u001b[0;34m\u001b[0m\u001b[0m\n\u001b[0m\u001b[1;32m      5\u001b[0m \u001b[0mcredit_cards_transactions\u001b[0m\u001b[0;34m.\u001b[0m\u001b[0mdescribe\u001b[0m\u001b[0;34m(\u001b[0m\u001b[0;34m)\u001b[0m\u001b[0;34m\u001b[0m\u001b[0;34m\u001b[0m\u001b[0m\n\u001b[1;32m      6\u001b[0m \u001b[0mcredit_cards_transactions\u001b[0m\u001b[0;34m.\u001b[0m\u001b[0mshape\u001b[0m\u001b[0;34m\u001b[0m\u001b[0;34m\u001b[0m\u001b[0m\n",
      "\u001b[0;31mNameError\u001b[0m: name 'credit_cards_transactions' is not defined"
     ]
    }
   ],
   "source": [
    "# check null values in dataframe\n",
    "#-------------------2.Check Missing Values---------------\n",
    "fill_mean = lambda x: x.fillna(x.mean())\n",
    "df=df.apply(fill_mean)\n",
    "df.describe()\n",
    "df.shape\n",
    "df.info"
   ]
  },
  {
   "cell_type": "code",
   "execution_count": null,
   "metadata": {
    "id": "0pI6EOmVSYA9"
   },
   "outputs": [],
   "source": [
    "# split dataframe into input and output\n",
    "data=df.iloc[:,:8]\n",
    "labels=df.iloc[:,-1]"
   ]
  },
  {
   "cell_type": "code",
   "execution_count": null,
   "metadata": {
    "id": "mel2k2Nwf0LI"
   },
   "outputs": [],
   "source": [
    "# standardized or normalized the data (input variables)\n",
    "mean = data.mean(axis=0)\n",
    "data-= mean\n",
    "std = data.std(axis=0)\n",
    "data/= std"
   ]
  },
  {
   "cell_type": "code",
   "execution_count": null,
   "metadata": {
    "id": "l-IZEthjV2pC"
   },
   "outputs": [],
   "source": [
    "# standardized or normalized the data (output variables)\n",
    "labels_mean = labels.mean(axis=0)\n",
    "labels-= labels_mean\n",
    "labels_std = labels.std(axis=0)\n",
    "labels/= labels_std\n"
   ]
  },
  {
   "cell_type": "code",
   "execution_count": null,
   "metadata": {
    "id": "e6Q4b8UpXI8a"
   },
   "outputs": [],
   "source": [
    "# data spliting into train & test\n",
    "X_train=data.sample(frac=0.7,random_state=1)\n",
    "X_test=data.sample(frac=0.3,random_state=1)\n",
    "y_train=labels.sample(frac=0.7,random_state=1)\n",
    "y_test=labels.sample(frac=0.3,random_state=1)"
   ]
  },
  {
   "cell_type": "code",
   "execution_count": null,
   "metadata": {
    "colab": {
     "base_uri": "https://localhost:8080/"
    },
    "id": "cxld28AodAxY",
    "outputId": "e5ccdd27-d42b-414b-9ab3-940a5e5916e9"
   },
   "outputs": [
    {
     "name": "stdout",
     "output_type": "stream",
     "text": [
      "Shape of training data :(721, 8),\n",
      "Shape of training labels:(721,)\n"
     ]
    }
   ],
   "source": [
    "# check training data and training targets\n",
    "print(f\"Shape of training data :{X_train.shape},\\nShape of training labels:{y_train.shape}\")"
   ]
  },
  {
   "cell_type": "code",
   "execution_count": null,
   "metadata": {
    "colab": {
     "base_uri": "https://localhost:8080/"
    },
    "id": "XsIXmksBdKGl",
    "outputId": "79974879-9388-47ee-c88d-ec33f8528552"
   },
   "outputs": [
    {
     "name": "stdout",
     "output_type": "stream",
     "text": [
      "Shape of testing data :(309, 8),\n",
      "Shape of testing labels:(309,)\n"
     ]
    }
   ],
   "source": [
    "# check testing data and testing targets\n",
    "print(f\"Shape of testing data :{X_test.shape},\\nShape of testing labels:{y_test.shape}\")"
   ]
  },
  {
   "cell_type": "code",
   "execution_count": null,
   "metadata": {
    "id": "pJ4OdxP9g5Wa"
   },
   "outputs": [],
   "source": [
    "# convert dataframe into numpy array\n",
    "X_train= np.asarray(X_train).astype('float32')\n",
    "X_test= np.asarray(X_test).astype('float32')\n",
    "#y_train= np.asarray(y_train).astype('float32')\n",
    "#y_test= np.asarray(y_test).astype('float32')\n"
   ]
  },
  {
   "cell_type": "code",
   "execution_count": null,
   "metadata": {
    "id": "uTKLaC-_jgZC"
   },
   "outputs": [],
   "source": [
    "# training data distrubted into validation data\n",
    "val_X = X_train[:230]\n",
    "partial_X_train=X_train[230:]\n",
    "val_y=y_train[:230]\n",
    "partial_y_train=y_train[230:]\n"
   ]
  },
  {
   "cell_type": "code",
   "execution_count": null,
   "metadata": {
    "id": "yI9PhkMyhH9Q"
   },
   "outputs": [],
   "source": [
    "# importing models libarires\n",
    "from keras import models, layers , optimizers"
   ]
  },
  {
   "cell_type": "code",
   "execution_count": null,
   "metadata": {
    "id": "FBHIpQiNhLsk"
   },
   "outputs": [],
   "source": [
    "# model building\n",
    "network=models.Sequential()\n",
    "network.add(tf.keras.layers.Dense(10,activation=\"relu\",input_shape=(X_train.shape[1],)))\n",
    "network.add(tf.keras.layers.Dropout(0.2))\n",
    "network.add(tf.keras.layers.Dense(8,activation=\"relu\"))\n",
    "network.add(tf.keras.layers.Dropout(0.2))\n",
    "network.add(tf.keras.layers.Dense(6,activation=\"relu\"))\n",
    "#network.add(tf.keras.layers.Dropout(0.5))\n",
    "network.add(tf.keras.layers.Dense(1))\n",
    "\n"
   ]
  },
  {
   "cell_type": "code",
   "execution_count": null,
   "metadata": {
    "id": "DojP0-ZZipQE"
   },
   "outputs": [],
   "source": [
    "# model compiling\n",
    "network.compile(optimizer=optimizers.RMSprop(lr=0.001), loss=\"mse\",metrics=['mae'])"
   ]
  },
  {
   "cell_type": "markdown",
   "metadata": {
    "id": "y9eGT2x9nVqV"
   },
   "source": []
  },
  {
   "cell_type": "code",
   "execution_count": null,
   "metadata": {
    "colab": {
     "base_uri": "https://localhost:8080/"
    },
    "id": "KE-wc1irh7dL",
    "outputId": "3d940ada-0ae4-459c-92db-50845702ee9d"
   },
   "outputs": [
    {
     "name": "stdout",
     "output_type": "stream",
     "text": [
      "Epoch 1/100\n",
      "491/491 [==============================] - 2s 2ms/step - loss: 0.8081 - mae: 0.7039 - val_loss: 0.5223 - val_mae: 0.5575\n",
      "Epoch 2/100\n",
      "491/491 [==============================] - 1s 2ms/step - loss: 0.5953 - mae: 0.6016 - val_loss: 0.4603 - val_mae: 0.5341\n",
      "Epoch 3/100\n",
      "491/491 [==============================] - 1s 2ms/step - loss: 0.5591 - mae: 0.6134 - val_loss: 0.4150 - val_mae: 0.4978\n",
      "Epoch 4/100\n",
      "491/491 [==============================] - 1s 2ms/step - loss: 0.5916 - mae: 0.6087 - val_loss: 0.4170 - val_mae: 0.5081\n",
      "Epoch 5/100\n",
      "491/491 [==============================] - 1s 2ms/step - loss: 0.5415 - mae: 0.5635 - val_loss: 0.3901 - val_mae: 0.4911\n",
      "Epoch 6/100\n",
      "491/491 [==============================] - 1s 2ms/step - loss: 0.4940 - mae: 0.5441 - val_loss: 0.4026 - val_mae: 0.5058\n",
      "Epoch 7/100\n",
      "491/491 [==============================] - 1s 2ms/step - loss: 0.4656 - mae: 0.5138 - val_loss: 0.3750 - val_mae: 0.4854\n",
      "Epoch 8/100\n",
      "491/491 [==============================] - 1s 2ms/step - loss: 0.4923 - mae: 0.5345 - val_loss: 0.3612 - val_mae: 0.4699\n",
      "Epoch 9/100\n",
      "491/491 [==============================] - 1s 2ms/step - loss: 0.4505 - mae: 0.5103 - val_loss: 0.3570 - val_mae: 0.4621\n",
      "Epoch 10/100\n",
      "491/491 [==============================] - 1s 2ms/step - loss: 0.4669 - mae: 0.5078 - val_loss: 0.3733 - val_mae: 0.4865\n",
      "Epoch 11/100\n",
      "491/491 [==============================] - 1s 2ms/step - loss: 0.4258 - mae: 0.5017 - val_loss: 0.3633 - val_mae: 0.4715\n",
      "Epoch 12/100\n",
      "491/491 [==============================] - 1s 2ms/step - loss: 0.4558 - mae: 0.5119 - val_loss: 0.3673 - val_mae: 0.4785\n",
      "Epoch 13/100\n",
      "491/491 [==============================] - 1s 2ms/step - loss: 0.4072 - mae: 0.4972 - val_loss: 0.3488 - val_mae: 0.4715\n",
      "Epoch 14/100\n",
      "491/491 [==============================] - 1s 2ms/step - loss: 0.3822 - mae: 0.4824 - val_loss: 0.3447 - val_mae: 0.4633\n",
      "Epoch 15/100\n",
      "491/491 [==============================] - 1s 2ms/step - loss: 0.3825 - mae: 0.4622 - val_loss: 0.3633 - val_mae: 0.4892\n",
      "Epoch 16/100\n",
      "491/491 [==============================] - 1s 2ms/step - loss: 0.3614 - mae: 0.4570 - val_loss: 0.3465 - val_mae: 0.4717\n",
      "Epoch 17/100\n",
      "491/491 [==============================] - 1s 2ms/step - loss: 0.3303 - mae: 0.4538 - val_loss: 0.3536 - val_mae: 0.4785\n",
      "Epoch 18/100\n",
      "491/491 [==============================] - 1s 2ms/step - loss: 0.4532 - mae: 0.5034 - val_loss: 0.3466 - val_mae: 0.4732\n",
      "Epoch 19/100\n",
      "491/491 [==============================] - 1s 2ms/step - loss: 0.3514 - mae: 0.4492 - val_loss: 0.3242 - val_mae: 0.4521\n",
      "Epoch 20/100\n",
      "491/491 [==============================] - 1s 2ms/step - loss: 0.3608 - mae: 0.4632 - val_loss: 0.3349 - val_mae: 0.4636\n",
      "Epoch 21/100\n",
      "491/491 [==============================] - 1s 2ms/step - loss: 0.4040 - mae: 0.4767 - val_loss: 0.3312 - val_mae: 0.4608\n",
      "Epoch 22/100\n",
      "491/491 [==============================] - 1s 2ms/step - loss: 0.4209 - mae: 0.5002 - val_loss: 0.3248 - val_mae: 0.4584\n",
      "Epoch 23/100\n",
      "491/491 [==============================] - 1s 2ms/step - loss: 0.3290 - mae: 0.4416 - val_loss: 0.3203 - val_mae: 0.4555\n",
      "Epoch 24/100\n",
      "491/491 [==============================] - 1s 2ms/step - loss: 0.3111 - mae: 0.4275 - val_loss: 0.3116 - val_mae: 0.4440\n",
      "Epoch 25/100\n",
      "491/491 [==============================] - 1s 2ms/step - loss: 0.2802 - mae: 0.4076 - val_loss: 0.3171 - val_mae: 0.4514\n",
      "Epoch 26/100\n",
      "491/491 [==============================] - 1s 2ms/step - loss: 0.3824 - mae: 0.4779 - val_loss: 0.3118 - val_mae: 0.4490\n",
      "Epoch 27/100\n",
      "491/491 [==============================] - 1s 2ms/step - loss: 0.2965 - mae: 0.4044 - val_loss: 0.3299 - val_mae: 0.4671\n",
      "Epoch 28/100\n",
      "491/491 [==============================] - 1s 2ms/step - loss: 0.3257 - mae: 0.4271 - val_loss: 0.3244 - val_mae: 0.4650\n",
      "Epoch 29/100\n",
      "491/491 [==============================] - 1s 2ms/step - loss: 0.3376 - mae: 0.4408 - val_loss: 0.3223 - val_mae: 0.4632\n",
      "Epoch 30/100\n",
      "491/491 [==============================] - 1s 2ms/step - loss: 0.3351 - mae: 0.4388 - val_loss: 0.3038 - val_mae: 0.4442\n",
      "Epoch 31/100\n",
      "491/491 [==============================] - 1s 2ms/step - loss: 0.3163 - mae: 0.4209 - val_loss: 0.3063 - val_mae: 0.4491\n",
      "Epoch 32/100\n",
      "491/491 [==============================] - 1s 2ms/step - loss: 0.3255 - mae: 0.4328 - val_loss: 0.3093 - val_mae: 0.4557\n",
      "Epoch 33/100\n",
      "491/491 [==============================] - 1s 2ms/step - loss: 0.2822 - mae: 0.4005 - val_loss: 0.2942 - val_mae: 0.4433\n",
      "Epoch 34/100\n",
      "491/491 [==============================] - 1s 2ms/step - loss: 0.2992 - mae: 0.4225 - val_loss: 0.3138 - val_mae: 0.4623\n",
      "Epoch 35/100\n",
      "491/491 [==============================] - 1s 2ms/step - loss: 0.3553 - mae: 0.4524 - val_loss: 0.2958 - val_mae: 0.4399\n",
      "Epoch 36/100\n",
      "491/491 [==============================] - 1s 2ms/step - loss: 0.3150 - mae: 0.4202 - val_loss: 0.2938 - val_mae: 0.4365\n",
      "Epoch 37/100\n",
      "491/491 [==============================] - 1s 2ms/step - loss: 0.2368 - mae: 0.3604 - val_loss: 0.2897 - val_mae: 0.4382\n",
      "Epoch 38/100\n",
      "491/491 [==============================] - 1s 2ms/step - loss: 0.3801 - mae: 0.4569 - val_loss: 0.2999 - val_mae: 0.4479\n",
      "Epoch 39/100\n",
      "491/491 [==============================] - 1s 2ms/step - loss: 0.3115 - mae: 0.4152 - val_loss: 0.2975 - val_mae: 0.4397\n",
      "Epoch 40/100\n",
      "491/491 [==============================] - 1s 2ms/step - loss: 0.3936 - mae: 0.4475 - val_loss: 0.2835 - val_mae: 0.4227\n",
      "Epoch 41/100\n",
      "491/491 [==============================] - 1s 2ms/step - loss: 0.2840 - mae: 0.4045 - val_loss: 0.2989 - val_mae: 0.4508\n",
      "Epoch 42/100\n",
      "491/491 [==============================] - 1s 2ms/step - loss: 0.3135 - mae: 0.4274 - val_loss: 0.2907 - val_mae: 0.4377\n",
      "Epoch 43/100\n",
      "491/491 [==============================] - 1s 2ms/step - loss: 0.3382 - mae: 0.4209 - val_loss: 0.3039 - val_mae: 0.4552\n",
      "Epoch 44/100\n",
      "491/491 [==============================] - 1s 2ms/step - loss: 0.2680 - mae: 0.3781 - val_loss: 0.2868 - val_mae: 0.4362\n",
      "Epoch 45/100\n",
      "491/491 [==============================] - 1s 2ms/step - loss: 0.3051 - mae: 0.4035 - val_loss: 0.2897 - val_mae: 0.4368\n",
      "Epoch 46/100\n",
      "491/491 [==============================] - 1s 2ms/step - loss: 0.3243 - mae: 0.4314 - val_loss: 0.2797 - val_mae: 0.4283\n",
      "Epoch 47/100\n",
      "491/491 [==============================] - 1s 2ms/step - loss: 0.3388 - mae: 0.4162 - val_loss: 0.3102 - val_mae: 0.4530\n",
      "Epoch 48/100\n",
      "491/491 [==============================] - 1s 2ms/step - loss: 0.2906 - mae: 0.3895 - val_loss: 0.3034 - val_mae: 0.4487\n",
      "Epoch 49/100\n",
      "491/491 [==============================] - 1s 2ms/step - loss: 0.2804 - mae: 0.3970 - val_loss: 0.3061 - val_mae: 0.4570\n",
      "Epoch 50/100\n",
      "491/491 [==============================] - 1s 2ms/step - loss: 0.2930 - mae: 0.4028 - val_loss: 0.2925 - val_mae: 0.4416\n",
      "Epoch 51/100\n",
      "491/491 [==============================] - 1s 2ms/step - loss: 0.2987 - mae: 0.4149 - val_loss: 0.2938 - val_mae: 0.4442\n",
      "Epoch 52/100\n",
      "491/491 [==============================] - 1s 2ms/step - loss: 0.2643 - mae: 0.3938 - val_loss: 0.2755 - val_mae: 0.4288\n",
      "Epoch 53/100\n",
      "491/491 [==============================] - 1s 2ms/step - loss: 0.2516 - mae: 0.3756 - val_loss: 0.2758 - val_mae: 0.4214\n",
      "Epoch 54/100\n",
      "491/491 [==============================] - 1s 2ms/step - loss: 0.3384 - mae: 0.4375 - val_loss: 0.2851 - val_mae: 0.4366\n",
      "Epoch 55/100\n",
      "491/491 [==============================] - 1s 2ms/step - loss: 0.2697 - mae: 0.3808 - val_loss: 0.2935 - val_mae: 0.4380\n",
      "Epoch 56/100\n",
      "491/491 [==============================] - 1s 2ms/step - loss: 0.2542 - mae: 0.3705 - val_loss: 0.2768 - val_mae: 0.4226\n",
      "Epoch 57/100\n",
      "491/491 [==============================] - 1s 2ms/step - loss: 0.3453 - mae: 0.4250 - val_loss: 0.2748 - val_mae: 0.4281\n",
      "Epoch 58/100\n",
      "491/491 [==============================] - 1s 2ms/step - loss: 0.3043 - mae: 0.3929 - val_loss: 0.2984 - val_mae: 0.4499\n",
      "Epoch 59/100\n",
      "491/491 [==============================] - 1s 2ms/step - loss: 0.3451 - mae: 0.4318 - val_loss: 0.2672 - val_mae: 0.4142\n",
      "Epoch 60/100\n",
      "491/491 [==============================] - 1s 2ms/step - loss: 0.2501 - mae: 0.3799 - val_loss: 0.2784 - val_mae: 0.4265\n",
      "Epoch 61/100\n",
      "491/491 [==============================] - 1s 2ms/step - loss: 0.2876 - mae: 0.4000 - val_loss: 0.2739 - val_mae: 0.4156\n",
      "Epoch 62/100\n",
      "491/491 [==============================] - 1s 2ms/step - loss: 0.2828 - mae: 0.3976 - val_loss: 0.2847 - val_mae: 0.4247\n",
      "Epoch 63/100\n",
      "491/491 [==============================] - 1s 2ms/step - loss: 0.2795 - mae: 0.3677 - val_loss: 0.2707 - val_mae: 0.4200\n",
      "Epoch 64/100\n",
      "491/491 [==============================] - 1s 2ms/step - loss: 0.3010 - mae: 0.3866 - val_loss: 0.2631 - val_mae: 0.4112\n",
      "Epoch 65/100\n",
      "491/491 [==============================] - 1s 2ms/step - loss: 0.2910 - mae: 0.4050 - val_loss: 0.2628 - val_mae: 0.4120\n",
      "Epoch 66/100\n",
      "491/491 [==============================] - 1s 2ms/step - loss: 0.3171 - mae: 0.4218 - val_loss: 0.2718 - val_mae: 0.4288\n",
      "Epoch 67/100\n",
      "491/491 [==============================] - 1s 2ms/step - loss: 0.3599 - mae: 0.4242 - val_loss: 0.2718 - val_mae: 0.4190\n",
      "Epoch 68/100\n",
      "491/491 [==============================] - 1s 2ms/step - loss: 0.2732 - mae: 0.3767 - val_loss: 0.2820 - val_mae: 0.4244\n",
      "Epoch 69/100\n",
      "491/491 [==============================] - 1s 2ms/step - loss: 0.2408 - mae: 0.3583 - val_loss: 0.2678 - val_mae: 0.4220\n",
      "Epoch 70/100\n",
      "491/491 [==============================] - 1s 2ms/step - loss: 0.2701 - mae: 0.3758 - val_loss: 0.2443 - val_mae: 0.3965\n",
      "Epoch 71/100\n",
      "491/491 [==============================] - 1s 2ms/step - loss: 0.2551 - mae: 0.3707 - val_loss: 0.2747 - val_mae: 0.4188\n",
      "Epoch 72/100\n",
      "491/491 [==============================] - 1s 2ms/step - loss: 0.2450 - mae: 0.3607 - val_loss: 0.2617 - val_mae: 0.4168\n",
      "Epoch 73/100\n",
      "491/491 [==============================] - 1s 2ms/step - loss: 0.3277 - mae: 0.3930 - val_loss: 0.2655 - val_mae: 0.4214\n",
      "Epoch 74/100\n",
      "491/491 [==============================] - 1s 2ms/step - loss: 0.2713 - mae: 0.3889 - val_loss: 0.2584 - val_mae: 0.4139\n",
      "Epoch 75/100\n",
      "491/491 [==============================] - 1s 2ms/step - loss: 0.2336 - mae: 0.3607 - val_loss: 0.2547 - val_mae: 0.3977\n",
      "Epoch 76/100\n",
      "491/491 [==============================] - 1s 2ms/step - loss: 0.2457 - mae: 0.3790 - val_loss: 0.2519 - val_mae: 0.3982\n",
      "Epoch 77/100\n",
      "491/491 [==============================] - 1s 2ms/step - loss: 0.2894 - mae: 0.3897 - val_loss: 0.2499 - val_mae: 0.3983\n",
      "Epoch 78/100\n",
      "491/491 [==============================] - 1s 2ms/step - loss: 0.2411 - mae: 0.3607 - val_loss: 0.2477 - val_mae: 0.3945\n",
      "Epoch 79/100\n",
      "491/491 [==============================] - 1s 2ms/step - loss: 0.2457 - mae: 0.3568 - val_loss: 0.2677 - val_mae: 0.4153\n",
      "Epoch 80/100\n",
      "491/491 [==============================] - 1s 2ms/step - loss: 0.2514 - mae: 0.3715 - val_loss: 0.2572 - val_mae: 0.4041\n",
      "Epoch 81/100\n",
      "491/491 [==============================] - 1s 2ms/step - loss: 0.2646 - mae: 0.3713 - val_loss: 0.2806 - val_mae: 0.4193\n",
      "Epoch 82/100\n",
      "491/491 [==============================] - 1s 2ms/step - loss: 0.2659 - mae: 0.3768 - val_loss: 0.2566 - val_mae: 0.4039\n",
      "Epoch 83/100\n",
      "491/491 [==============================] - 1s 2ms/step - loss: 0.2595 - mae: 0.3615 - val_loss: 0.2725 - val_mae: 0.4301\n",
      "Epoch 84/100\n",
      "491/491 [==============================] - 1s 2ms/step - loss: 0.3171 - mae: 0.4111 - val_loss: 0.2616 - val_mae: 0.4091\n",
      "Epoch 85/100\n",
      "491/491 [==============================] - 1s 2ms/step - loss: 0.2455 - mae: 0.3645 - val_loss: 0.2518 - val_mae: 0.4003\n",
      "Epoch 86/100\n",
      "491/491 [==============================] - 1s 2ms/step - loss: 0.2192 - mae: 0.3368 - val_loss: 0.2730 - val_mae: 0.4235\n",
      "Epoch 87/100\n",
      "491/491 [==============================] - 1s 2ms/step - loss: 0.2495 - mae: 0.3800 - val_loss: 0.2503 - val_mae: 0.4038\n",
      "Epoch 88/100\n",
      "491/491 [==============================] - 1s 2ms/step - loss: 0.2311 - mae: 0.3617 - val_loss: 0.2407 - val_mae: 0.3968\n",
      "Epoch 89/100\n",
      "491/491 [==============================] - 1s 2ms/step - loss: 0.2358 - mae: 0.3502 - val_loss: 0.2558 - val_mae: 0.4082\n",
      "Epoch 90/100\n",
      "491/491 [==============================] - 1s 2ms/step - loss: 0.2664 - mae: 0.3797 - val_loss: 0.2689 - val_mae: 0.4195\n",
      "Epoch 91/100\n",
      "491/491 [==============================] - 1s 2ms/step - loss: 0.2780 - mae: 0.3719 - val_loss: 0.2463 - val_mae: 0.3959\n",
      "Epoch 92/100\n",
      "491/491 [==============================] - 1s 2ms/step - loss: 0.2070 - mae: 0.3339 - val_loss: 0.2440 - val_mae: 0.3966\n",
      "Epoch 93/100\n",
      "491/491 [==============================] - 1s 2ms/step - loss: 0.2403 - mae: 0.3589 - val_loss: 0.2623 - val_mae: 0.3958\n",
      "Epoch 94/100\n",
      "491/491 [==============================] - 1s 2ms/step - loss: 0.3043 - mae: 0.3988 - val_loss: 0.2478 - val_mae: 0.3964\n",
      "Epoch 95/100\n",
      "491/491 [==============================] - 1s 2ms/step - loss: 0.2621 - mae: 0.3842 - val_loss: 0.2378 - val_mae: 0.3850\n",
      "Epoch 96/100\n",
      "491/491 [==============================] - 1s 2ms/step - loss: 0.2525 - mae: 0.3671 - val_loss: 0.2437 - val_mae: 0.3968\n",
      "Epoch 97/100\n",
      "491/491 [==============================] - 1s 2ms/step - loss: 0.2887 - mae: 0.3721 - val_loss: 0.2609 - val_mae: 0.3986\n",
      "Epoch 98/100\n",
      "491/491 [==============================] - 1s 2ms/step - loss: 0.2732 - mae: 0.3928 - val_loss: 0.2443 - val_mae: 0.3961\n",
      "Epoch 99/100\n",
      "491/491 [==============================] - 1s 2ms/step - loss: 0.2661 - mae: 0.3782 - val_loss: 0.2325 - val_mae: 0.3847\n",
      "Epoch 100/100\n",
      "491/491 [==============================] - 1s 2ms/step - loss: 0.2127 - mae: 0.3457 - val_loss: 0.2533 - val_mae: 0.3992\n"
     ]
    }
   ],
   "source": [
    "# model training\n",
    "history=network.fit(partial_X_train,partial_y_train,epochs=100,validation_data=(val_X,val_y),batch_size=1,verbose=1)"
   ]
  },
  {
   "cell_type": "code",
   "execution_count": null,
   "metadata": {
    "colab": {
     "base_uri": "https://localhost:8080/",
     "height": 297
    },
    "id": "tL65MoX3k-_1",
    "outputId": "27a769a9-8342-4325-ef34-09e7cd53a29d"
   },
   "outputs": [
    {
     "data": {
      "image/png": "[encoded data removed]",
      "text/plain": [
       "<Figure size 432x288 with 1 Axes>"
      ]
     },
     "metadata": {
      "tags": []
     },
     "output_type": "display_data"
    }
   ],
   "source": [
    "# show training and validation MAE\n",
    "y1=history.history['mae']\n",
    "x1=history.history['val_mae']\n",
    "x=range(100)\n",
    "plt.scatter(x,y1 , label= \"TRAINING MAE Score\", color= \"green\", marker= \"*\")\n",
    "plt.scatter(x,x1, label= \"VALIdation MAE Score\", color= \"b\")\n",
    "plt.xlabel('Epochs')\n",
    "plt.ylabel('Mean Absoulte Error')\n",
    "plt.title('TRAINING MAE AND validation MAE!')\n",
    "plt.legend()\n",
    "plt.grid()\n",
    "plt.show()\n"
   ]
  },
  {
   "cell_type": "code",
   "execution_count": null,
   "metadata": {
    "colab": {
     "base_uri": "https://localhost:8080/",
     "height": 297
    },
    "id": "XY28DpqQlLYr",
    "outputId": "2d671a3f-d21f-4f60-eb27-a53eaad5d55e"
   },
   "outputs": [
    {
     "data": {
      "image/png": "[encoded data removed]",
      "text/plain": [
       "<Figure size 432x288 with 1 Axes>"
      ]
     },
     "metadata": {
      "tags": []
     },
     "output_type": "display_data"
    }
   ],
   "source": [
    "#show training and validation loss in graph\n",
    "loss = history.history['loss']\n",
    "val_loss = history.history['val_loss']\n",
    "epochs = range(1, len(loss) + 1)\n",
    "plt.plot(epochs, loss, 'g',marker=\"+\", label='Training loss')\n",
    "plt.plot(epochs, val_loss, 'b', label='Validation loss')\n",
    "plt.title('Training and validation loss')\n",
    "plt.xlabel('Epochs')\n",
    "plt.ylabel('Loss')\n",
    "plt.legend()\n",
    "plt.grid()\n",
    "plt.show()"
   ]
  },
  {
   "cell_type": "code",
   "execution_count": null,
   "metadata": {
    "colab": {
     "base_uri": "https://localhost:8080/"
    },
    "id": "aedgvZfCoEqr",
    "outputId": "5d8e5348-c8e5-421a-e838-62b88e4a0673"
   },
   "outputs": [
    {
     "name": "stdout",
     "output_type": "stream",
     "text": [
      "10/10 [==============================] - 0s 2ms/step - loss: 0.2443 - mae: 0.3945\n"
     ]
    }
   ],
   "source": [
    "# model evaluating on test data & label\n",
    "test_mse_score, test_mae_score = network.evaluate(X_test, y_test)"
   ]
  },
  {
   "cell_type": "code",
   "execution_count": null,
   "metadata": {
    "colab": {
     "base_uri": "https://localhost:8080/"
    },
    "id": "VGsxBThTqvjm",
    "outputId": "6ac995f7-a801-428d-b44e-e5caad793c49"
   },
   "outputs": [
    {
     "data": {
      "text/plain": [
       "0.2443053126335144"
      ]
     },
     "execution_count": 87,
     "metadata": {
      "tags": []
     },
     "output_type": "execute_result"
    }
   ],
   "source": [
    "# check test mean squared error\n",
    "test_mse_score"
   ]
  },
  {
   "cell_type": "code",
   "execution_count": null,
   "metadata": {
    "colab": {
     "base_uri": "https://localhost:8080/"
    },
    "id": "4Q-EgYVztMMt",
    "outputId": "06cea83c-4288-42b9-d339-a1d4ed1edb06"
   },
   "outputs": [
    {
     "data": {
      "text/plain": [
       "0.39450588822364807"
      ]
     },
     "execution_count": 88,
     "metadata": {
      "tags": []
     },
     "output_type": "execute_result"
    }
   ],
   "source": [
    "# check test mean absoulte error\n",
    "test_mae_score"
   ]
  },
  {
   "cell_type": "code",
   "execution_count": null,
   "metadata": {
    "id": "qepWbko8rXy7"
   },
   "outputs": [],
   "source": [
    "# check presdictions on testing data\n",
    "y_pred = network.predict(X_test)\n",
    "y_pred=y_pred*labels_std+labels_mean"
   ]
  }
 ],
 "metadata": {
  "colab": {
   "collapsed_sections": [],
   "include_colab_link": true,
   "name": "Concrete_Strength_Assignment (PIAIC 77161).ipynb",
   "provenance": []
  },
  "kernelspec": {
   "display_name": "Python 3",
   "language": "python",
   "name": "python3"
  },
  "language_info": {
   "codemirror_mode": {
    "name": "ipython",
    "version": 3
   },
   "file_extension": ".py",
   "mimetype": "text/x-python",
   "name": "python",
   "nbconvert_exporter": "python",
   "pygments_lexer": "ipython3",
   "version": "3.7.4"
  }
 },
 "nbformat": 4,
 "nbformat_minor": 1
}
