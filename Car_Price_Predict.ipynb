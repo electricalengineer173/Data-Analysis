{
 "cells": [
  {
   "cell_type": "markdown",
   "metadata": {
    "colab_type": "text",
    "id": "view-in-github"
   },
   "source": [
    "<a href=\"https://colab.research.google.com/github/electricalengineer173/PIAIC1466-assigment-panda-part1-part2-/blob/main/Car_Price_Prediction_(PIAIC_77161).ipynb\" target=\"_parent\"><img src=\"https://colab.research.google.com/assets/colab-badge.svg\" alt=\"Open In Colab\"/></a>"
   ]
  },
  {
   "cell_type": "markdown",
   "metadata": {
    "id": "sMNQWyN0xU9q"
   },
   "source": [
    "# Car Price Prediction::"
   ]
  },
  {
   "cell_type": "markdown",
   "metadata": {
    "id": "lRcwEJBbxU91"
   },
   "source": [
    "Download dataset from this link:\n",
    "\n",
    "https://www.kaggle.com/hellbuoy/car-price-prediction"
   ]
  },
  {
   "cell_type": "markdown",
   "metadata": {
    "id": "6iwzOdWVxU92"
   },
   "source": [
    "# Problem Statement::"
   ]
  },
  {
   "cell_type": "markdown",
   "metadata": {
    "id": "vdcrxOjJxU93"
   },
   "source": [
    "A Chinese automobile company Geely Auto aspires to enter the US market by setting up their manufacturing unit there and producing cars locally to give competition to their US and European counterparts.\n",
    "\n",
    "They have contracted an automobile consulting company to understand the factors on which the pricing of cars depends. Specifically, they want to understand the factors affecting the pricing of cars in the American market, since those may be very different from the Chinese market. The company wants to know:\n",
    "\n",
    "Which variables are significant in predicting the price of a car\n",
    "How well those variables describe the price of a car\n",
    "Based on various market surveys, the consulting firm has gathered a large data set of different types of cars across the America market.\n",
    "\n",
    "# task::\n",
    "We are required to model the price of cars with the available independent variables. It will be used by the management to understand how exactly the prices vary with the independent variables. They can accordingly manipulate the design of the cars, the business strategy etc. to meet certain price levels. Further, the model will be a good way for management to understand the pricing dynamics of a new market."
   ]
  },
  {
   "cell_type": "markdown",
   "metadata": {
    "id": "A9udJmRIxU94"
   },
   "source": [
    "# WORKFLOW ::"
   ]
  },
  {
   "cell_type": "markdown",
   "metadata": {
    "id": "Mg0LFipjxU94"
   },
   "source": [
    "1.Load Data\n",
    "\n",
    "2.Check Missing Values ( If Exist ; Fill each record with mean of its feature )\n",
    "\n",
    "3.Split into 50% Training(Samples,Labels) , 30% Test(Samples,Labels) and 20% Validation Data(Samples,Labels).\n",
    "\n",
    "4.Model : input Layer (No. of features ), 3 hidden layers including 10,8,6 unit & Output Layer with activation function relu/tanh (check by experiment).\n",
    "\n",
    "5.Compilation Step (Note : Its a Regression problem , select loss , metrics according to it)\n",
    "6.Train the Model with Epochs (100) and validate it\n",
    "\n",
    "7.If the model gets overfit tune your model by changing the units , No. of layers , activation function , epochs , add dropout layer or add Regularizer according to the need .\n",
    "\n",
    "8.Evaluation Step\n",
    "\n",
    "9.Prediction"
   ]
  },
  {
   "cell_type": "code",
   "execution_count": null,
   "metadata": {
    "id": "6p7Jhz5_xU95"
   },
   "outputs": [],
   "source": [
    "# importing all libarires \n",
    "import numpy as np\n",
    "import pandas as pd\n",
    "import matplotlib.pyplot as plt\n",
    "import seaborn as sns\n"
   ]
  },
  {
   "cell_type": "code",
   "execution_count": null,
   "metadata": {
    "id": "Xbu5dVklxU96"
   },
   "outputs": [],
   "source": [
    "# google mount \n",
    "from google.colab import drive\n",
    "drive.mount(\"/content/drive\")"
   ]
  },
  {
   "cell_type": "code",
   "execution_count": null,
   "metadata": {
    "id": "Ed3u6UgMxU97"
   },
   "outputs": [],
   "source": [
    "# ----------------Step1-----------\n",
    "\n",
    "\n",
    "\n",
    "df = pd.read_csv(\"/content/drive/MyDrive/CarPrice_Assignment.csv\")"
   ]
  },
  {
   "cell_type": "markdown",
   "metadata": {
    "id": "r_UdiL8rMMAk"
   },
   "source": [
    "***Data cleaning and analyzing***"
   ]
  },
  {
   "cell_type": "code",
   "execution_count": null,
   "metadata": {
    "id": "T-NOrJvN0WjJ"
   },
   "outputs": [],
   "source": [
    "# ------------Step2-----------------\n",
    "\n",
    "\n",
    "#check null values in data set\n",
    "df.isnull().sum()"
   ]
  },
  {
   "cell_type": "code",
   "execution_count": null,
   "metadata": {
    "id": "Q1mh6UfdCqoz"
   },
   "outputs": [],
   "source": [
    "#----------------------Step3-----------------\n",
    "\n",
    "\n",
    "\n",
    "\n",
    "# dataframe spliting into input(X) & output(y)\n",
    "X=df.iloc[:,:-1]\n",
    "y=df.iloc[:,-1]\n"
   ]
  },
  {
   "cell_type": "code",
   "execution_count": null,
   "metadata": {
    "id": "3OZ3H6BTVHOr"
   },
   "outputs": [],
   "source": [
    "# Drop all non_numeric features\n",
    "X.drop(X.select_dtypes(include='object'),axis=1,inplace=True)"
   ]
  },
  {
   "cell_type": "code",
   "execution_count": null,
   "metadata": {
    "id": "pIe-zkdE3qs6"
   },
   "outputs": [],
   "source": [
    "\n",
    "X_train=X.sample(frac=0.7, random_state=1,axis=0)\n",
    "y_train=y.sample(frac=0.7, random_state=1,axis=0)"
   ]
  },
  {
   "cell_type": "code",
   "execution_count": null,
   "metadata": {
    "id": "ls4tWALd6Pzz"
   },
   "outputs": [],
   "source": [
    "# spliting data into training data (X_test) as  training labels (y_test)\n",
    "X_test=X.sample(frac=0.3, replace=True, random_state=1,axis=0)\n",
    "y_test=y.sample(frac=0.3, replace=True, random_state=1,axis=0)"
   ]
  },
  {
   "cell_type": "code",
   "execution_count": null,
   "metadata": {
    "id": "SCDVPUsm4ZaE"
   },
   "outputs": [],
   "source": [
    "# Check the shape of training data,testing data,training labels,testing labels\n",
    "print(f\"shape of training data is :{X_train.shape}\\nshape of training label is :{y_train.shape}\\nshape of testing data is :{X_test.shape}\\nshape of testing label is :{y_test.shape}\")"
   ]
  },
  {
   "cell_type": "code",
   "execution_count": null,
   "metadata": {
    "id": "tZHITtDV2RrM"
   },
   "outputs": [],
   "source": [
    "#convert training and testing data into numpy array and also change datatypes into Float\n",
    "X_train=np.asarray(X_train).astype(\"float32\")\n",
    "X_test=np.asarray(X_test).astype(\"float32\")"
   ]
  },
  {
   "cell_type": "code",
   "execution_count": null,
   "metadata": {
    "id": "6kW2_oHrSi-F"
   },
   "outputs": [],
   "source": [
    "#Data normalization \n",
    "mean = X_train.mean(axis=0)\n",
    "X_train-= mean\n",
    "std = X_train.std(axis=0)\n",
    "X_train/= std\n",
    "X_test-= mean\n",
    "X_test/= std"
   ]
  },
  {
   "cell_type": "code",
   "execution_count": null,
   "metadata": {
    "id": "fdeIgaOLX9GO"
   },
   "outputs": [],
   "source": [
    "# labels \n",
    "y_mean = y_train.mean(axis=0)\n",
    "y_train-= y_mean\n",
    "y_std = y_train.std(axis=0)\n",
    "y_train/= y_std\n",
    "y_test-= y_mean\n",
    "y_test/= y_std"
   ]
  },
  {
   "cell_type": "code",
   "execution_count": null,
   "metadata": {
    "id": "DDddSyUv8k4F"
   },
   "outputs": [],
   "source": [
    "# validation Data split from training Data\n",
    "val_x=X_train[:50]\n",
    "partial_x_train=X_train[50:]\n",
    "val_y=y_train[:50]\n",
    "partial_y_train=y_train[50:]"
   ]
  },
  {
   "cell_type": "code",
   "execution_count": null,
   "metadata": {
    "id": "3knFXQlZK3ug"
   },
   "outputs": [],
   "source": [
    "# importing all libariries\n",
    "import tensorflow as tf\n",
    "from keras import models,layers,optimizers,losses\n"
   ]
  },
  {
   "cell_type": "code",
   "execution_count": null,
   "metadata": {
    "id": "tzNVnHUf3ffq"
   },
   "outputs": [],
   "source": [
    "#--------------------Step 4-----------------------------\n",
    "\n",
    "\n",
    "\n",
    "\n",
    "\n",
    "# model buildup\n",
    "network=models.Sequential()\n",
    "network.add(layers.Dense(10,activation=\"relu\" ,input_shape=(X_train.shape[1],)))\n",
    "network.add(layers.Dropout(0.2))\n",
    "network.add(layers.Dense(8,activation=\"relu\"))\n",
    "#network.add(layers.Dropout(0.2))\n",
    "network.add(layers.Dense(6,activation=\"relu\"))\n",
    "network.add(layers.Dense(1))"
   ]
  },
  {
   "cell_type": "code",
   "execution_count": null,
   "metadata": {
    "id": "v_nWZA0N6dvU"
   },
   "outputs": [],
   "source": [
    "#------------------------Step5---------------------------------\n",
    "\n",
    "\n",
    "\n",
    "# model compliling\n",
    "network.compile(optimizer=\"rmsprop\",loss=\"mse\",metrics=[\"mae\"])"
   ]
  },
  {
   "cell_type": "code",
   "execution_count": null,
   "metadata": {
    "id": "QliTGCi94XDc"
   },
   "outputs": [],
   "source": [
    "#-----------------------Step 6--------------------\n",
    "\n",
    "\n",
    "\n",
    "\n",
    "\n",
    "# model training on training data & validation data\n",
    "history=network.fit(partial_x_train, partial_y_train,epochs=85, batch_size=1, verbose=1,validation_data=(val_x,val_y))"
   ]
  },
  {
   "cell_type": "code",
   "execution_count": null,
   "metadata": {
    "id": "hzImMFI2PBVD"
   },
   "outputs": [],
   "source": [
    "# graph of training and validation loss\n",
    "loss = history.history['loss']\n",
    "val_loss = history.history['val_loss']\n",
    "epochs = range(1, len(loss) + 1)\n",
    "plt.plot(epochs, loss,\"go\",label='Training loss')\n",
    "plt.plot(epochs, val_loss, 'r', label='Validation loss')\n",
    "plt.title('Training and validation loss')\n",
    "plt.xlabel('Epochs')\n",
    "plt.ylabel('Loss')\n",
    "plt.legend()\n",
    "plt.grid()\n",
    "plt.show()"
   ]
  },
  {
   "cell_type": "code",
   "execution_count": null,
   "metadata": {
    "id": "wgYqTsNt5Fme"
   },
   "outputs": [],
   "source": [
    "#----------------Step 8------------------------\n",
    "\n",
    "\n",
    "\n",
    "\n",
    "# model evaluation\n",
    "network.evaluate(X_test,y_test)"
   ]
  },
  {
   "cell_type": "code",
   "execution_count": null,
   "metadata": {
    "id": "GDSGr6yI8UVr"
   },
   "outputs": [],
   "source": [
    "#--------------Step 9--------------------\n",
    "\n",
    "\n",
    "\n",
    "\n",
    "#model predictions \n",
    "#result=network.predict(X_test)\n",
    "result_1=network.predict(X_test)\n",
    "result_1[4]"
   ]
  },
  {
   "cell_type": "code",
   "execution_count": null,
   "metadata": {
    "id": "XQBU2Sez8WWR"
   },
   "outputs": [],
   "source": [
    "#graph\n",
    "y=result_1\n",
    "y1=range(62)\n",
    "x=y_test\n",
    "plt.scatter(x, y1, label= \"Actual price\", color= \"blue\", marker= \"*\", s=100)\n",
    "plt.scatter(y, y1, label= \"Predicted Price\", color= \"green\", marker= \"+\", s=100)\n",
    "plt.xlabel('Price')\n",
    "plt.ylabel('Rows')\n",
    "plt.title('Actual price versus predicted price!')\n",
    "plt.legend()\n",
    "plt.grid()\n",
    "plt.show()"
   ]
  }
 ],
 "metadata": {
  "colab": {
   "collapsed_sections": [],
   "include_colab_link": true,
   "name": "Car_Price_Prediction (PIAIC 77161).ipynb",
   "provenance": []
  },
  "kernelspec": {
   "display_name": "Python 3",
   "language": "python",
   "name": "python3"
  },
  "language_info": {
   "codemirror_mode": {
    "name": "ipython",
    "version": 3
   },
   "file_extension": ".py",
   "mimetype": "text/x-python",
   "name": "python",
   "nbconvert_exporter": "python",
   "pygments_lexer": "ipython3",
   "version": "3.7.4"
  }
 },
 "nbformat": 4,
 "nbformat_minor": 1
}
